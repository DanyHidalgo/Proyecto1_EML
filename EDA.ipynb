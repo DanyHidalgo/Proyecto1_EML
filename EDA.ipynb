{
 "cells": [
  {
   "cell_type": "code",
   "execution_count": 39,
   "metadata": {},
   "outputs": [
    {
     "name": "stderr",
     "output_type": "stream",
     "text": [
      "C:\\Users\\denis\\AppData\\Local\\Temp\\ipykernel_5132\\1196747608.py:12: DtypeWarning: Columns (2) have mixed types. Specify dtype option on import or set low_memory=False.\n",
      "  data = pd.read_csv(archivo)\n",
      "C:\\Users\\denis\\AppData\\Local\\Temp\\ipykernel_5132\\1196747608.py:12: DtypeWarning: Columns (2) have mixed types. Specify dtype option on import or set low_memory=False.\n",
      "  data = pd.read_csv(archivo)\n",
      "C:\\Users\\denis\\AppData\\Local\\Temp\\ipykernel_5132\\1196747608.py:12: DtypeWarning: Columns (2,6,9) have mixed types. Specify dtype option on import or set low_memory=False.\n",
      "  data = pd.read_csv(archivo)\n",
      "C:\\Users\\denis\\AppData\\Local\\Temp\\ipykernel_5132\\1196747608.py:12: DtypeWarning: Columns (2) have mixed types. Specify dtype option on import or set low_memory=False.\n",
      "  data = pd.read_csv(archivo)\n",
      "C:\\Users\\denis\\AppData\\Local\\Temp\\ipykernel_5132\\1196747608.py:12: DtypeWarning: Columns (2) have mixed types. Specify dtype option on import or set low_memory=False.\n",
      "  data = pd.read_csv(archivo)\n",
      "C:\\Users\\denis\\AppData\\Local\\Temp\\ipykernel_5132\\1196747608.py:12: DtypeWarning: Columns (2) have mixed types. Specify dtype option on import or set low_memory=False.\n",
      "  data = pd.read_csv(archivo)\n"
     ]
    }
   ],
   "source": [
    "import pandas as pd\n",
    "import glob\n",
    "\n",
    "# Cargar los archivos de un directorio\n",
    "archivos = glob.glob('./Data/*.csv')\n",
    "\n",
    "# Crear lista para muestras\n",
    "muestras = []\n",
    "\n",
    "# Iterar cada archivo para sacar una muestra aleatoria\n",
    "for archivo in archivos:\n",
    "    data = pd.read_csv(archivo)\n",
    "    \n",
    "    muestra = data.sample(frac=0.2)  \n",
    "    muestras.append(muestra)\n",
    "\n",
    "# Concatenar las muestras\n",
    "muestra_concatenada = pd.concat(muestras, ignore_index=True)\n",
    "\n",
    "# Guardar la muestra concatenada\n",
    "muestra_concatenada.to_csv('./Data.csv', index=False)\n"
   ]
  },
  {
   "cell_type": "code",
   "execution_count": 40,
   "metadata": {},
   "outputs": [
    {
     "name": "stderr",
     "output_type": "stream",
     "text": [
      "C:\\Users\\denis\\AppData\\Local\\Temp\\ipykernel_5132\\3800025677.py:2: DtypeWarning: Columns (2) have mixed types. Specify dtype option on import or set low_memory=False.\n",
      "  df = pd.read_csv('Data.csv')\n"
     ]
    },
    {
     "data": {
      "text/plain": [
       "(1683090, 10)"
      ]
     },
     "execution_count": 40,
     "metadata": {},
     "output_type": "execute_result"
    }
   ],
   "source": [
    "# Leer el archivo   \n",
    "df = pd.read_csv('Data.csv')\n",
    "\n",
    "# Forma del dataframe\n",
    "df.shape"
   ]
  },
  {
   "cell_type": "code",
   "execution_count": 41,
   "metadata": {},
   "outputs": [
    {
     "name": "stdout",
     "output_type": "stream",
     "text": [
      "<class 'pandas.core.frame.DataFrame'>\n",
      "RangeIndex: 1683090 entries, 0 to 1683089\n",
      "Data columns (total 10 columns):\n",
      " #   Column                 Non-Null Count    Dtype  \n",
      "---  ------                 --------------    -----  \n",
      " 0   Genero_Usuario         1683090 non-null  object \n",
      " 1   Edad_Usuario           1683090 non-null  int64  \n",
      " 2   Bici                   1683090 non-null  object \n",
      " 3   Ciclo_Estacion_Retiro  1683090 non-null  int64  \n",
      " 4   Fecha_Retiro           1683090 non-null  object \n",
      " 5   Hora_Retiro            1683090 non-null  object \n",
      " 6   Ciclo_Estacion_Arribo  1683090 non-null  int64  \n",
      " 7   Fecha_Arribo           1683090 non-null  object \n",
      " 8   Hora_Arribo            1683090 non-null  object \n",
      " 9   Unnamed: 9             0 non-null        float64\n",
      "dtypes: float64(1), int64(3), object(6)\n",
      "memory usage: 128.4+ MB\n"
     ]
    }
   ],
   "source": [
    "# Información del dataframe\n",
    "df.info()"
   ]
  },
  {
   "cell_type": "code",
   "execution_count": 42,
   "metadata": {},
   "outputs": [
    {
     "data": {
      "text/plain": [
       "0         NaN\n",
       "1         NaN\n",
       "2         NaN\n",
       "3         NaN\n",
       "4         NaN\n",
       "           ..\n",
       "1683085   NaN\n",
       "1683086   NaN\n",
       "1683087   NaN\n",
       "1683088   NaN\n",
       "1683089   NaN\n",
       "Name: Unnamed: 9, Length: 1683090, dtype: float64"
      ]
     },
     "execution_count": 42,
     "metadata": {},
     "output_type": "execute_result"
    }
   ],
   "source": [
    "# Revision de columnas 9 \n",
    "df.iloc[:, 9]"
   ]
  },
  {
   "cell_type": "code",
   "execution_count": 43,
   "metadata": {},
   "outputs": [
    {
     "name": "stdout",
     "output_type": "stream",
     "text": [
      "<class 'pandas.core.frame.DataFrame'>\n",
      "RangeIndex: 1683090 entries, 0 to 1683089\n",
      "Data columns (total 9 columns):\n",
      " #   Column                 Non-Null Count    Dtype \n",
      "---  ------                 --------------    ----- \n",
      " 0   Genero_Usuario         1683090 non-null  object\n",
      " 1   Edad_Usuario           1683090 non-null  int64 \n",
      " 2   Bici                   1683090 non-null  object\n",
      " 3   Ciclo_Estacion_Retiro  1683090 non-null  int64 \n",
      " 4   Fecha_Retiro           1683090 non-null  object\n",
      " 5   Hora_Retiro            1683090 non-null  object\n",
      " 6   Ciclo_Estacion_Arribo  1683090 non-null  int64 \n",
      " 7   Fecha_Arribo           1683090 non-null  object\n",
      " 8   Hora_Arribo            1683090 non-null  object\n",
      "dtypes: int64(3), object(6)\n",
      "memory usage: 115.6+ MB\n"
     ]
    }
   ],
   "source": [
    "# Eliminación de columnas 9 \n",
    "df.drop(df.columns[9], axis=1, inplace=True)\n",
    "df.info()"
   ]
  },
  {
   "cell_type": "code",
   "execution_count": 44,
   "metadata": {},
   "outputs": [
    {
     "data": {
      "text/plain": [
       "Genero_Usuario           0\n",
       "Edad_Usuario             0\n",
       "Bici                     0\n",
       "Ciclo_Estacion_Retiro    0\n",
       "Fecha_Retiro             0\n",
       "Hora_Retiro              0\n",
       "Ciclo_Estacion_Arribo    0\n",
       "Fecha_Arribo             0\n",
       "Hora_Arribo              0\n",
       "dtype: int64"
      ]
     },
     "execution_count": 44,
     "metadata": {},
     "output_type": "execute_result"
    }
   ],
   "source": [
    "# Revision de datos nulos \n",
    "df.isnull().sum()"
   ]
  },
  {
   "cell_type": "code",
   "execution_count": null,
   "metadata": {},
   "outputs": [],
   "source": []
  }
 ],
 "metadata": {
  "kernelspec": {
   "display_name": "Python 3",
   "language": "python",
   "name": "python3"
  },
  "language_info": {
   "codemirror_mode": {
    "name": "ipython",
    "version": 3
   },
   "file_extension": ".py",
   "mimetype": "text/x-python",
   "name": "python",
   "nbconvert_exporter": "python",
   "pygments_lexer": "ipython3",
   "version": "3.12.1"
  }
 },
 "nbformat": 4,
 "nbformat_minor": 2
}
